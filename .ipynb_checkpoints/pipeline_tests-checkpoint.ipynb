{
 "cells": [
  {
   "cell_type": "markdown",
   "id": "94c1c492-6a6c-4fc9-ac93-a688a2579ecb",
   "metadata": {},
   "source": [
    "### Experiment.py Tests"
   ]
  },
  {
   "cell_type": "code",
   "execution_count": 73,
   "id": "e6419b9b-b024-4b4e-b638-9c0385792a7c",
   "metadata": {},
   "outputs": [],
   "source": [
    "from Experiment import Experiment, ExperimentLogger\n",
    "\n",
    "import yaml\n",
    "import os\n",
    "import numpy as np\n",
    "\n",
    "import torch\n",
    "from torch_geometric.data import Data\n",
    "from collections.abc import Iterable"
   ]
  },
  {
   "cell_type": "code",
   "execution_count": 26,
   "id": "2b32ef5c-7e53-45da-b148-9ef155dcbfd5",
   "metadata": {},
   "outputs": [],
   "source": [
    "def test_experiment_class_init():\n",
    "    RESULT_DIR = '/Users/maxperozek/GNN-research/GNN-exp-pipeline/result/'\n",
    "    config_file = '/Users/maxperozek/GNN-research/GNN-exp-pipeline/config/test_config.yml'\n",
    "    config_name = os.path.basename(config_file)[:-5]\n",
    "    with open(config_file) as file:\n",
    "        config = yaml.safe_load(file)\n",
    "\n",
    "    exp = Experiment(config, RESULT_DIR + config_name)\n",
    "    assert exp\n",
    "    assert exp.device == torch.device('cpu')\n",
    "    "
   ]
  },
  {
   "cell_type": "code",
   "execution_count": 27,
   "id": "a86c0a1f-05e0-49a4-90ff-347c0476d07d",
   "metadata": {},
   "outputs": [],
   "source": [
    "test_experiment_class_init()"
   ]
  },
  {
   "cell_type": "code",
   "execution_count": 56,
   "id": "61c19a7b-c634-4a22-a67a-1d22d650a93a",
   "metadata": {},
   "outputs": [],
   "source": [
    "def test_experiment_prep_data():\n",
    "    RESULT_DIR = '/Users/maxperozek/GNN-research/GNN-exp-pipeline/result/'\n",
    "    config_file = '/Users/maxperozek/GNN-research/GNN-exp-pipeline/config/test_config.yml'\n",
    "    config_name = os.path.basename(config_file)[:-5]\n",
    "    with open(config_file) as file:\n",
    "        config = yaml.safe_load(file)\n",
    "\n",
    "    exp = Experiment(config, RESULT_DIR + config_name)\n",
    "    dataset, kfold = exp.prep_data()\n",
    "    \n",
    "    assert len(dataset) == 3511\n",
    "    assert type(dataset[0]) == Data\n",
    "    assert isinstance(dataset, Iterable)\n",
    "    assert kfold.get_n_splits() == 5"
   ]
  },
  {
   "cell_type": "code",
   "execution_count": 57,
   "id": "95412422-cd33-4d4b-b675-bd260c70de11",
   "metadata": {},
   "outputs": [],
   "source": [
    "test_experiment_prep_data()"
   ]
  },
  {
   "cell_type": "code",
   "execution_count": null,
   "id": "45d5d5e3-feb9-4bc1-ac67-0ba999f905d3",
   "metadata": {},
   "outputs": [],
   "source": []
  },
  {
   "cell_type": "code",
   "execution_count": 28,
   "id": "94a09672-1fa2-42f2-a3db-e99e690a48dd",
   "metadata": {},
   "outputs": [],
   "source": [
    "def test_experiment_run():\n",
    "    RESULT_DIR = '/Users/maxperozek/GNN-research/GNN-exp-pipeline/result/'\n",
    "    config_file = '/Users/maxperozek/GNN-research/GNN-exp-pipeline/config/test_config.yml'\n",
    "    config_name = os.path.basename(config_file)[:-5]\n",
    "    with open(config_file) as file:\n",
    "        config = yaml.safe_load(file)\n",
    "\n",
    "    exp = Experiment(config, RESULT_DIR + config_name)\n",
    "    exp.run()"
   ]
  },
  {
   "cell_type": "code",
   "execution_count": 30,
   "id": "71fd5e3c-f3d1-4204-8609-368c1e44c6c3",
   "metadata": {},
   "outputs": [
    {
     "ename": "AttributeError",
     "evalue": "'Experiment' object has no attribute 'config_optim'",
     "output_type": "error",
     "traceback": [
      "\u001b[0;31m---------------------------------------------------------------------------\u001b[0m",
      "\u001b[0;31mAttributeError\u001b[0m                            Traceback (most recent call last)",
      "Input \u001b[0;32mIn [30]\u001b[0m, in \u001b[0;36m<cell line: 1>\u001b[0;34m()\u001b[0m\n\u001b[0;32m----> 1\u001b[0m \u001b[43mtest_experiment_run\u001b[49m\u001b[43m(\u001b[49m\u001b[43m)\u001b[49m\n",
      "Input \u001b[0;32mIn [28]\u001b[0m, in \u001b[0;36mtest_experiment_run\u001b[0;34m()\u001b[0m\n\u001b[1;32m      6\u001b[0m     config \u001b[38;5;241m=\u001b[39m yaml\u001b[38;5;241m.\u001b[39msafe_load(file)\n\u001b[1;32m      8\u001b[0m exp \u001b[38;5;241m=\u001b[39m Experiment(config, RESULT_DIR \u001b[38;5;241m+\u001b[39m config_name)\n\u001b[0;32m----> 9\u001b[0m \u001b[43mexp\u001b[49m\u001b[38;5;241;43m.\u001b[39;49m\u001b[43mrun\u001b[49m\u001b[43m(\u001b[49m\u001b[43m)\u001b[49m\n",
      "File \u001b[0;32m~/GNN-research/GNN-exp-pipeline/Experiment.py:31\u001b[0m, in \u001b[0;36mExperiment.run\u001b[0;34m(self)\u001b[0m\n\u001b[1;32m     29\u001b[0m dataset, kfold \u001b[38;5;241m=\u001b[39m \u001b[38;5;28mself\u001b[39m\u001b[38;5;241m.\u001b[39mprep_data()\n\u001b[1;32m     30\u001b[0m model \u001b[38;5;241m=\u001b[39m \u001b[38;5;28mself\u001b[39m\u001b[38;5;241m.\u001b[39mconfig_model()\n\u001b[0;32m---> 31\u001b[0m optimizer \u001b[38;5;241m=\u001b[39m \u001b[38;5;28;43mself\u001b[39;49m\u001b[38;5;241;43m.\u001b[39;49m\u001b[43mconfig_optim\u001b[49m()\n\u001b[1;32m     32\u001b[0m loss_fn \u001b[38;5;241m=\u001b[39m \u001b[38;5;28mself\u001b[39m\u001b[38;5;241m.\u001b[39mconfig_loss()\n\u001b[1;32m     34\u001b[0m fold_eval_results \u001b[38;5;241m=\u001b[39m np\u001b[38;5;241m.\u001b[39mempty(k_folds)\n",
      "\u001b[0;31mAttributeError\u001b[0m: 'Experiment' object has no attribute 'config_optim'"
     ]
    }
   ],
   "source": [
    "test_experiment_run()"
   ]
  },
  {
   "cell_type": "markdown",
   "id": "0c623444-4d2d-468a-a66a-b945babdeda1",
   "metadata": {},
   "source": [
    "### Test Transforms"
   ]
  },
  {
   "cell_type": "code",
   "execution_count": 60,
   "id": "cfc7cc5b-203c-40f3-b94f-b592f996f2c4",
   "metadata": {},
   "outputs": [],
   "source": [
    "from transforms.wico_transforms import WICOTransforms"
   ]
  },
  {
   "cell_type": "code",
   "execution_count": 108,
   "id": "2bcfb6d8-629e-4158-9ed2-ec9f5003cc5e",
   "metadata": {},
   "outputs": [],
   "source": [
    "def test_wico_5g_vs_non_conspiracy_transform():\n",
    "    t = getattr(WICOTransforms, 'wico_5g_vs_non_conspiracy')\n",
    "    DATA_DIR = '/Users/maxperozek/GNN-research/data_pro/data/'\n",
    "    full_wico_pyg = 'full_wico.pt'\n",
    "    wico = torch.load(DATA_DIR + full_wico_pyg)\n",
    "    wico_2_class = t(wico)\n",
    "    \n",
    "    assert len(wico) == 3511\n",
    "    assert len(wico_2_class) == 2914\n",
    "    assert (np.unique(np.array(wico_2_class, dtype=object)[:,2,1].astype(int)) == np.arange(2)).all() # assert there are exactly 2 classes; 0 and 1"
   ]
  },
  {
   "cell_type": "code",
   "execution_count": 109,
   "id": "8ddd1106-ccaf-4ea5-8cee-577c0d402a18",
   "metadata": {},
   "outputs": [],
   "source": [
    "test_wico_5g_vs_non_conspiracy_transform()"
   ]
  },
  {
   "cell_type": "code",
   "execution_count": null,
   "id": "ac22326f-8da8-48ba-ada9-c41ef7189abc",
   "metadata": {},
   "outputs": [],
   "source": []
  }
 ],
 "metadata": {
  "kernelspec": {
   "display_name": "Python 3 (ipykernel)",
   "language": "python",
   "name": "python3"
  },
  "language_info": {
   "codemirror_mode": {
    "name": "ipython",
    "version": 3
   },
   "file_extension": ".py",
   "mimetype": "text/x-python",
   "name": "python",
   "nbconvert_exporter": "python",
   "pygments_lexer": "ipython3",
   "version": "3.9.12"
  }
 },
 "nbformat": 4,
 "nbformat_minor": 5
}
