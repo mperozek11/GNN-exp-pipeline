{
 "cells": [
  {
   "cell_type": "markdown",
   "id": "94c1c492-6a6c-4fc9-ac93-a688a2579ecb",
   "metadata": {},
   "source": [
    "### Experiment.py Tests"
   ]
  },
  {
   "cell_type": "code",
   "execution_count": null,
   "id": "e6419b9b-b024-4b4e-b638-9c0385792a7c",
   "metadata": {},
   "outputs": [],
   "source": [
    "from experiments.Experiment import Experiment, ExperimentLogger\n",
    "\n",
    "import yaml\n",
    "import os\n",
    "import numpy as np\n",
    "\n",
    "import torch\n",
    "from torch_geometric.data import Data\n",
    "from collections.abc import Iterable"
   ]
  },
  {
   "cell_type": "code",
   "execution_count": 2,
   "id": "2b32ef5c-7e53-45da-b148-9ef155dcbfd5",
   "metadata": {},
   "outputs": [],
   "source": [
    "def test_experiment_class_init():\n",
    "    RESULT_DIR = '/Users/maxperozek/GNN-research/GNN-exp-pipeline/result/'\n",
    "    config_file = '/Users/maxperozek/GNN-research/GNN-exp-pipeline/config/test_config.yml'\n",
    "    config_name = os.path.basename(config_file)[:-5]\n",
    "    with open(config_file) as file:\n",
    "        config = yaml.safe_load(file)\n",
    "\n",
    "    exp = Experiment(config, RESULT_DIR + config_name)\n",
    "    assert exp\n",
    "    assert exp.device == torch.device('cpu')\n",
    "    "
   ]
  },
  {
   "cell_type": "code",
   "execution_count": 3,
   "id": "a86c0a1f-05e0-49a4-90ff-347c0476d07d",
   "metadata": {},
   "outputs": [],
   "source": [
    "test_experiment_class_init()"
   ]
  },
  {
   "cell_type": "code",
   "execution_count": 21,
   "id": "61c19a7b-c634-4a22-a67a-1d22d650a93a",
   "metadata": {},
   "outputs": [],
   "source": [
    "def test_experiment_prep_data():\n",
    "    RESULT_DIR = '/Users/maxperozek/GNN-research/GNN-exp-pipeline/result/'\n",
    "    config_file = '/Users/maxperozek/GNN-research/GNN-exp-pipeline/config/test_config.yml'\n",
    "    config_name = os.path.basename(config_file)[:-5]\n",
    "    with open(config_file) as file:\n",
    "        config = yaml.safe_load(file)\n",
    "\n",
    "    exp = Experiment(config, RESULT_DIR + config_name)\n",
    "    dataset, kfold = exp.prep_data()\n",
    "    assert len(dataset) == 2914\n",
    "    assert type(dataset[0]) == Data\n",
    "    assert isinstance(dataset, Iterable)\n",
    "    assert kfold.get_n_splits() == 5"
   ]
  },
  {
   "cell_type": "code",
   "execution_count": 23,
   "id": "95412422-cd33-4d4b-b675-bd260c70de11",
   "metadata": {},
   "outputs": [],
   "source": [
    "test_experiment_prep_data()"
   ]
  },
  {
   "cell_type": "code",
   "execution_count": null,
   "id": "69f90292-ee52-4c37-b882-28319943bc09",
   "metadata": {},
   "outputs": [],
   "source": []
  },
  {
   "cell_type": "code",
   "execution_count": 4,
   "id": "94a09672-1fa2-42f2-a3db-e99e690a48dd",
   "metadata": {},
   "outputs": [],
   "source": [
    "def test_experiment_run_e2e():\n",
    "    RESULT_DIR = '/Users/maxperozek/GNN-research/GNN-exp-pipeline/result/'\n",
    "    config_file = '/Users/maxperozek/GNN-research/GNN-exp-pipeline/config/test_config.yml'\n",
    "    config_name = os.path.basename(config_file)[:-4]\n",
    "    with open(config_file) as file:\n",
    "        config = yaml.safe_load(file)\n",
    "\n",
    "    exp = Experiment(config, RESULT_DIR + config_name)\n",
    "    exp.run()"
   ]
  },
  {
   "cell_type": "code",
   "execution_count": 5,
   "id": "71fd5e3c-f3d1-4204-8609-368c1e44c6c3",
   "metadata": {},
   "outputs": [
    {
     "name": "stderr",
     "output_type": "stream",
     "text": [
      "100%|███████████████████████████████████████████| 20/20 [00:46<00:00,  2.33s/it]\n",
      "100%|███████████████████████████████████████████| 20/20 [00:41<00:00,  2.06s/it]\n",
      "100%|███████████████████████████████████████████| 20/20 [00:38<00:00,  1.92s/it]\n",
      "100%|███████████████████████████████████████████| 20/20 [00:39<00:00,  1.97s/it]\n",
      "100%|███████████████████████████████████████████| 20/20 [00:37<00:00,  1.88s/it]\n",
      "training model GIN on wico over 5 folds: 100%|████| 5/5 [03:23<00:00, 40.80s/it]"
     ]
    },
    {
     "name": "stdout",
     "output_type": "stream",
     "text": [
      "log saved to:  <_io.TextIOWrapper name='/Users/maxperozek/GNN-research/GNN-exp-pipeline/result/test_config_result.yaml' mode='w' encoding='UTF-8'>\n"
     ]
    },
    {
     "name": "stderr",
     "output_type": "stream",
     "text": [
      "\n"
     ]
    }
   ],
   "source": [
    "test_experiment_run_e2e()"
   ]
  },
  {
   "cell_type": "code",
   "execution_count": 6,
   "id": "cbbf3f57-e653-421e-beff-383eacef0d93",
   "metadata": {},
   "outputs": [],
   "source": [
    "def test_random_seed():\n",
    "    pass"
   ]
  },
  {
   "cell_type": "markdown",
   "id": "0c623444-4d2d-468a-a66a-b945babdeda1",
   "metadata": {},
   "source": [
    "### Test Transforms"
   ]
  },
  {
   "cell_type": "code",
   "execution_count": 60,
   "id": "cfc7cc5b-203c-40f3-b94f-b592f996f2c4",
   "metadata": {},
   "outputs": [],
   "source": [
    "from transforms.wico_transforms import WICOTransforms"
   ]
  },
  {
   "cell_type": "code",
   "execution_count": 108,
   "id": "2bcfb6d8-629e-4158-9ed2-ec9f5003cc5e",
   "metadata": {},
   "outputs": [],
   "source": [
    "def test_wico_5g_vs_non_conspiracy_transform():\n",
    "    t = getattr(WICOTransforms, 'wico_5g_vs_non_conspiracy')\n",
    "    DATA_DIR = '/Users/maxperozek/GNN-research/data_pro/data/'\n",
    "    full_wico_pyg = 'full_wico.pt'\n",
    "    wico = torch.load(DATA_DIR + full_wico_pyg)\n",
    "    wico_2_class = t(wico)\n",
    "    \n",
    "    assert len(wico) == 3511\n",
    "    assert len(wico_2_class) == 2914\n",
    "    assert (np.unique(np.array(wico_2_class, dtype=object)[:,2,1].astype(int)) == np.arange(2)).all() # assert there are exactly 2 classes; 0 and 1"
   ]
  },
  {
   "cell_type": "code",
   "execution_count": 109,
   "id": "8ddd1106-ccaf-4ea5-8cee-577c0d402a18",
   "metadata": {},
   "outputs": [],
   "source": [
    "test_wico_5g_vs_non_conspiracy_transform()"
   ]
  },
  {
   "cell_type": "code",
   "execution_count": 2,
   "id": "bd66ee63-0cf5-4d54-a59c-a55f97a88268",
   "metadata": {},
   "outputs": [
    {
     "name": "stderr",
     "output_type": "stream",
     "text": [
      "100%|███████████████████████████████████████████| 20/20 [01:22<00:00,  4.13s/it]\n",
      "100%|███████████████████████████████████████████| 20/20 [01:24<00:00,  4.20s/it]\n",
      "100%|███████████████████████████████████████████| 20/20 [01:23<00:00,  4.19s/it]\n",
      "100%|███████████████████████████████████████████| 20/20 [01:23<00:00,  4.16s/it]\n",
      "100%|███████████████████████████████████████████| 20/20 [01:23<00:00,  4.18s/it]\n",
      "training model GIN on wico over 5 folds: 100%|████| 5/5 [06:59<00:00, 83.81s/it]"
     ]
    },
    {
     "name": "stdout",
     "output_type": "stream",
     "text": [
      "log saved to:  <_io.TextIOWrapper name='/Users/maxperozek/GNN-research/GNN-exp-pipeline/result/decent_config_result.yaml' mode='w' encoding='UTF-8'>\n"
     ]
    },
    {
     "name": "stderr",
     "output_type": "stream",
     "text": [
      "\n"
     ]
    }
   ],
   "source": [
    "RESULT_DIR = '/Users/maxperozek/GNN-research/GNN-exp-pipeline/result/'\n",
    "config_file = '/Users/maxperozek/GNN-research/GNN-exp-pipeline/config/decent_config.yml'\n",
    "config_name = os.path.basename(config_file)[:-4]\n",
    "with open(config_file) as file:\n",
    "    config = yaml.safe_load(file)\n",
    "\n",
    "exp = Experiment(config, RESULT_DIR + config_name)\n",
    "exp.run()"
   ]
  },
  {
   "cell_type": "code",
   "execution_count": 24,
   "id": "41c59f48-4c77-41b5-a6f9-05194c25a655",
   "metadata": {},
   "outputs": [],
   "source": [
    "import itertools"
   ]
  },
  {
   "cell_type": "code",
   "execution_count": null,
   "id": "ee5a16de-763e-476a-be9b-8f6e8739f5e9",
   "metadata": {},
   "outputs": [],
   "source": []
  }
 ],
 "metadata": {
  "kernelspec": {
   "display_name": "Python 3 (ipykernel)",
   "language": "python",
   "name": "python3"
  },
  "language_info": {
   "codemirror_mode": {
    "name": "ipython",
    "version": 3
   },
   "file_extension": ".py",
   "mimetype": "text/x-python",
   "name": "python",
   "nbconvert_exporter": "python",
   "pygments_lexer": "ipython3",
   "version": "3.9.12"
  }
 },
 "nbformat": 4,
 "nbformat_minor": 5
}
